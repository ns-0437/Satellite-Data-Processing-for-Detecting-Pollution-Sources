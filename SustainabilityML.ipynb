{
  "cells": [
    {
      "cell_type": "markdown",
      "metadata": {
        "id": "view-in-github",
        "colab_type": "text"
      },
      "source": [
        "<a href=\"https://colab.research.google.com/github/ns-0437/Satellite-Data-Processing-for-Detecting-Pollution-Sources/blob/main/SustainabilityML.ipynb\" target=\"_parent\"><img src=\"https://colab.research.google.com/assets/colab-badge.svg\" alt=\"Open In Colab\"/></a>"
      ]
    },
    {
      "cell_type": "code",
      "execution_count": null,
      "metadata": {
        "colab": {
          "base_uri": "https://localhost:8080/",
          "height": 425
        },
        "id": "2WrP6WG5487V",
        "outputId": "d3cdab36-9a72-400f-db3b-522e1270ed02"
      },
      "outputs": [
        {
          "name": "stdout",
          "output_type": "stream",
          "text": [
            "Found 5400 images belonging to 1 classes.\n",
            "Found 5400 images belonging to 1 classes.\n",
            "Epoch 1/10\n",
            "169/169 [==============================] - ETA: 0s - loss: 3808098304.0000 - accuracy: 0.0000e+00"
          ]
        },
        {
          "ename": "AttributeError",
          "evalue": "'KerasTensor' object has no attribute 'numpy'",
          "output_type": "error",
          "traceback": [
            "\u001b[0;31m---------------------------------------------------------------------------\u001b[0m",
            "\u001b[0;31mAttributeError\u001b[0m                            Traceback (most recent call last)",
            "\u001b[0;32m<ipython-input-1-f182d3cbb588>\u001b[0m in \u001b[0;36m<cell line: 86>\u001b[0;34m()\u001b[0m\n\u001b[1;32m     84\u001b[0m \u001b[0;34m\u001b[0m\u001b[0m\n\u001b[1;32m     85\u001b[0m \u001b[0;31m# Train and evaluate the 5-class model\u001b[0m\u001b[0;34m\u001b[0m\u001b[0;34m\u001b[0m\u001b[0m\n\u001b[0;32m---> 86\u001b[0;31m \u001b[0mtrain_and_evaluate\u001b[0m\u001b[0;34m(\u001b[0m\u001b[0mclass_mode\u001b[0m\u001b[0;34m=\u001b[0m\u001b[0;34m'categorical'\u001b[0m\u001b[0;34m)\u001b[0m  \u001b[0;31m# Complete closing parenthesis\u001b[0m\u001b[0;34m\u001b[0m\u001b[0;34m\u001b[0m\u001b[0m\n\u001b[0m\u001b[1;32m     87\u001b[0m \u001b[0;34m\u001b[0m\u001b[0m\n\u001b[1;32m     88\u001b[0m \u001b[0;31m# Train and evaluate\u001b[0m\u001b[0;34m\u001b[0m\u001b[0;34m\u001b[0m\u001b[0m\n",
            "\u001b[0;32m<ipython-input-1-f182d3cbb588>\u001b[0m in \u001b[0;36mtrain_and_evaluate\u001b[0;34m(class_mode)\u001b[0m\n\u001b[1;32m     72\u001b[0m \u001b[0;34m\u001b[0m\u001b[0m\n\u001b[1;32m     73\u001b[0m     \u001b[0;31m# Train the model\u001b[0m\u001b[0;34m\u001b[0m\u001b[0;34m\u001b[0m\u001b[0m\n\u001b[0;32m---> 74\u001b[0;31m     model.fit(train_generator,\n\u001b[0m\u001b[1;32m     75\u001b[0m               \u001b[0mepochs\u001b[0m\u001b[0;34m=\u001b[0m\u001b[0;36m10\u001b[0m\u001b[0;34m,\u001b[0m  \u001b[0;31m# Adjust number of epochs as needed\u001b[0m\u001b[0;34m\u001b[0m\u001b[0;34m\u001b[0m\u001b[0m\n\u001b[1;32m     76\u001b[0m               callbacks=[FeatureMapVisualization()])\n",
            "\u001b[0;32m/usr/local/lib/python3.10/dist-packages/keras/src/utils/traceback_utils.py\u001b[0m in \u001b[0;36merror_handler\u001b[0;34m(*args, **kwargs)\u001b[0m\n\u001b[1;32m     68\u001b[0m             \u001b[0;31m# To get the full stack trace, call:\u001b[0m\u001b[0;34m\u001b[0m\u001b[0;34m\u001b[0m\u001b[0m\n\u001b[1;32m     69\u001b[0m             \u001b[0;31m# `tf.debugging.disable_traceback_filtering()`\u001b[0m\u001b[0;34m\u001b[0m\u001b[0;34m\u001b[0m\u001b[0m\n\u001b[0;32m---> 70\u001b[0;31m             \u001b[0;32mraise\u001b[0m \u001b[0me\u001b[0m\u001b[0;34m.\u001b[0m\u001b[0mwith_traceback\u001b[0m\u001b[0;34m(\u001b[0m\u001b[0mfiltered_tb\u001b[0m\u001b[0;34m)\u001b[0m \u001b[0;32mfrom\u001b[0m \u001b[0;32mNone\u001b[0m\u001b[0;34m\u001b[0m\u001b[0;34m\u001b[0m\u001b[0m\n\u001b[0m\u001b[1;32m     71\u001b[0m         \u001b[0;32mfinally\u001b[0m\u001b[0;34m:\u001b[0m\u001b[0;34m\u001b[0m\u001b[0;34m\u001b[0m\u001b[0m\n\u001b[1;32m     72\u001b[0m             \u001b[0;32mdel\u001b[0m \u001b[0mfiltered_tb\u001b[0m\u001b[0;34m\u001b[0m\u001b[0;34m\u001b[0m\u001b[0m\n",
            "\u001b[0;32m<ipython-input-1-f182d3cbb588>\u001b[0m in \u001b[0;36mon_epoch_end\u001b[0;34m(self, epoch, logs)\u001b[0m\n\u001b[1;32m     57\u001b[0m \u001b[0;34m\u001b[0m\u001b[0m\n\u001b[1;32m     58\u001b[0m             \u001b[0;31m# Extract and reshape activation maps\u001b[0m\u001b[0;34m\u001b[0m\u001b[0;34m\u001b[0m\u001b[0m\n\u001b[0;32m---> 59\u001b[0;31m             \u001b[0mconv1_activations\u001b[0m \u001b[0;34m=\u001b[0m \u001b[0mconv1_output\u001b[0m\u001b[0;34m.\u001b[0m\u001b[0mnumpy\u001b[0m\u001b[0;34m(\u001b[0m\u001b[0;34m)\u001b[0m\u001b[0;34m\u001b[0m\u001b[0;34m\u001b[0m\u001b[0m\n\u001b[0m\u001b[1;32m     60\u001b[0m             \u001b[0mconv2_activations\u001b[0m \u001b[0;34m=\u001b[0m \u001b[0mconv2_output\u001b[0m\u001b[0;34m.\u001b[0m\u001b[0mnumpy\u001b[0m\u001b[0;34m(\u001b[0m\u001b[0;34m)\u001b[0m\u001b[0;34m\u001b[0m\u001b[0;34m\u001b[0m\u001b[0m\n\u001b[1;32m     61\u001b[0m \u001b[0;34m\u001b[0m\u001b[0m\n",
            "\u001b[0;31mAttributeError\u001b[0m: 'KerasTensor' object has no attribute 'numpy'"
          ]
        }
      ],
      "source": [
        "import tensorflow as tf\n",
        "from tensorflow.keras.preprocessing.image import ImageDataGenerator\n",
        "from tensorflow.keras.models import Sequential\n",
        "from tensorflow.keras.layers import Conv2D, MaxPooling2D, Flatten, Dense\n",
        "from tensorflow.keras.callbacks import Callback\n",
        "import matplotlib.pyplot as plt\n",
        "from sklearn.metrics import confusion_matrix\n",
        "\n",
        "# Replace with your actual dataset path (no quotes around the path)\n",
        "data_dir = \"/content/drive/MyDrive/Datasets/animals\"\n",
        "\n",
        "# Image dimensions\n",
        "img_width, img_height = 150, 150\n",
        "\n",
        "# Function for training and evaluating one-vs-rest and 5-class models\n",
        "def train_and_evaluate(class_mode):\n",
        "    # Create separate data generators for training and validation\n",
        "    train_datagen = ImageDataGenerator(rescale=1./255, shear_range=0.2, zoom_range=0.2, horizontal_flip=True)\n",
        "    validation_datagen = ImageDataGenerator(rescale=1./255)\n",
        "\n",
        "    train_generator = train_datagen.flow_from_directory(\n",
        "        data_dir,\n",
        "        target_size=(img_width, img_height),\n",
        "        batch_size=32,\n",
        "        class_mode=class_mode\n",
        "    )\n",
        "\n",
        "    validation_generator = validation_datagen.flow_from_directory(\n",
        "        data_dir,\n",
        "        target_size=(img_width, img_height),\n",
        "        batch_size=32,\n",
        "        class_mode=class_mode\n",
        "    )\n",
        "\n",
        "    # Define the CNN model (adjust architecture and layers as needed)\n",
        "    model = Sequential([\n",
        "        Conv2D(32, (3, 3), activation='relu', input_shape=(img_width, img_height, 3), name='conv1'),  # Add name 'conv1' to the first layer\n",
        "        MaxPooling2D((2, 2)),\n",
        "        Conv2D(64, (3, 3), activation='relu', name='conv2'),  # Add name 'conv2' to the second layer\n",
        "        MaxPooling2D((2, 2)),\n",
        "        Flatten(),\n",
        "        Dense(128, activation='relu'),  # Adjust hidden layer size as needed\n",
        "        Dense(len(train_generator.classes) if class_mode == 'categorical' else 1, activation='softmax' if class_mode == 'categorical' else 'sigmoid')  # Output layer for number of classes\n",
        "    ])\n",
        "\n",
        "    # Compile the model\n",
        "    model.compile(loss='categorical_crossentropy' if class_mode == 'categorical' else 'binary_crossentropy',\n",
        "                  optimizer='adam',\n",
        "                  metrics=['accuracy'])\n",
        "\n",
        "    # Feature map visualization callback\n",
        "    class FeatureMapVisualization(Callback):\n",
        "        def on_epoch_end(self, epoch, logs=None):\n",
        "            # Access layer outputs using the correct names you assigned\n",
        "            conv1_output = self.model.get_layer('conv1').output\n",
        "            conv2_output = self.model.get_layer('conv2').output\n",
        "\n",
        "            # Extract and reshape activation maps\n",
        "            conv1_activations = conv1_output.numpy()\n",
        "            conv2_activations = conv2_output.numpy()\n",
        "\n",
        "            # Plot and visualize activation maps\n",
        "            for i in range(conv1_activations.shape[3]):\n",
        "                plt.imshow(conv1_activations[0, :, :, i], cmap='gray')\n",
        "                plt.title(f\"Conv1 Filter {i}\")\n",
        "                plt.show()\n",
        "\n",
        "            for i in range(conv2_activations.shape[3]):\n",
        "                plt.imshow(conv2_activations[0, :, :, i], cmap='gray')\n",
        "                plt.title(f\"Conv2 Filter {i}\")\n",
        "                plt.show()\n",
        "\n",
        "    # Train the model\n",
        "    model.fit(train_generator,\n",
        "              epochs=10,  # Adjust number of epochs as needed\n",
        "              callbacks=[FeatureMapVisualization()])\n",
        "\n",
        "    # Generate classification matrices\n",
        "    predictions = model.predict_classes(validation_generator)\n",
        "    actual_labels = validation_generator.classes\n",
        "    confusion_matrix = confusion_matrix(actual_labels, predictions)\n",
        "    print(f\"Confusion Matrix for {class_mode}:\")\n",
        "    print(confusion_matrix)\n",
        "\n",
        "# Train and evaluate the 5-class model\n",
        "train_and_evaluate(class_mode='categorical')  # Complete closing parenthesis\n",
        "\n",
        "# Train and evaluate\n"
      ]
    },
    {
      "cell_type": "code",
      "execution_count": null,
      "metadata": {
        "colab": {
          "background_save": true
        },
        "id": "Ax01D5dbCv2W"
      },
      "outputs": [],
      "source": [
        "import tensorflow as tf\n",
        "from tensorflow.keras.preprocessing.image import ImageDataGenerator\n",
        "from tensorflow.keras.models import Sequential\n",
        "from tensorflow.keras.layers import Conv2D, MaxPooling2D, Flatten, Dense\n",
        "from tensorflow.keras.callbacks import Callback\n",
        "import matplotlib.pyplot as plt\n",
        "from sklearn.metrics import confusion_matrix"
      ]
    },
    {
      "cell_type": "code",
      "execution_count": null,
      "metadata": {
        "id": "HsebeAF_CyHn"
      },
      "outputs": [],
      "source": [
        "# Replace with your actual dataset path (no quotes around the path)\n",
        "data_dir = \"/content/drive/MyDrive/Datasets/animals\""
      ]
    },
    {
      "cell_type": "code",
      "execution_count": null,
      "metadata": {
        "id": "e4C_9C2cCx3l"
      },
      "outputs": [],
      "source": [
        "# Image dimensions\n",
        "img_width, img_height = 150, 150\n",
        "\n",
        "# Function for training and evaluating one-vs-rest and 5-class models\n",
        "def train_and_evaluate(class_mode):\n",
        "    # Create separate data generators for training and validation\n",
        "    train_datagen = ImageDataGenerator(rescale=1./255, shear_range=0.2, zoom_range=0.2, horizontal_flip=True)\n",
        "    validation_datagen = ImageDataGenerator(rescale=1./255)\n",
        "\n",
        "    train_generator = train_datagen.flow_from_directory(\n",
        "        data_dir,\n",
        "        target_size=(img_width, img_height),\n",
        "        batch_size=32,\n",
        "        class_mode=class_mode\n",
        "    )\n",
        "\n",
        "    validation_generator = validation_datagen.flow_from_directory(\n",
        "        data_dir,\n",
        "        target_size=(img_width, img_height),\n",
        "        batch_size=32,\n",
        "        class_mode=class_mode\n",
        "    )\n",
        "\n"
      ]
    },
    {
      "cell_type": "code",
      "execution_count": null,
      "metadata": {
        "id": "LCSmy5iyCxvA",
        "colab": {
          "base_uri": "https://localhost:8080/",
          "height": 211
        },
        "outputId": "10be0438-1553-4f21-9514-5396c1eeeb3d"
      },
      "outputs": [
        {
          "output_type": "error",
          "ename": "NameError",
          "evalue": "name 'class_mode' is not defined",
          "traceback": [
            "\u001b[0;31m---------------------------------------------------------------------------\u001b[0m",
            "\u001b[0;31mNameError\u001b[0m                                 Traceback (most recent call last)",
            "\u001b[0;32m<ipython-input-10-6ac130b79d11>\u001b[0m in \u001b[0;36m<cell line: 2>\u001b[0;34m()\u001b[0m\n\u001b[1;32m      7\u001b[0m     \u001b[0mFlatten\u001b[0m\u001b[0;34m(\u001b[0m\u001b[0;34m)\u001b[0m\u001b[0;34m,\u001b[0m\u001b[0;34m\u001b[0m\u001b[0;34m\u001b[0m\u001b[0m\n\u001b[1;32m      8\u001b[0m     \u001b[0mDense\u001b[0m\u001b[0;34m(\u001b[0m\u001b[0;36m128\u001b[0m\u001b[0;34m,\u001b[0m \u001b[0mactivation\u001b[0m\u001b[0;34m=\u001b[0m\u001b[0;34m'relu'\u001b[0m\u001b[0;34m)\u001b[0m\u001b[0;34m,\u001b[0m  \u001b[0;31m# Adjust hidden layer size as needed\u001b[0m\u001b[0;34m\u001b[0m\u001b[0;34m\u001b[0m\u001b[0m\n\u001b[0;32m----> 9\u001b[0;31m     \u001b[0mDense\u001b[0m\u001b[0;34m(\u001b[0m\u001b[0mlen\u001b[0m\u001b[0;34m(\u001b[0m\u001b[0mtrain_generator\u001b[0m\u001b[0;34m.\u001b[0m\u001b[0mclasses\u001b[0m\u001b[0;34m)\u001b[0m \u001b[0;32mif\u001b[0m \u001b[0mclass_mode\u001b[0m \u001b[0;34m==\u001b[0m \u001b[0;34m'categorical'\u001b[0m \u001b[0;32melse\u001b[0m \u001b[0;36m1\u001b[0m\u001b[0;34m,\u001b[0m \u001b[0mactivation\u001b[0m\u001b[0;34m=\u001b[0m\u001b[0;34m'softmax'\u001b[0m \u001b[0;32mif\u001b[0m \u001b[0mclass_mode\u001b[0m \u001b[0;34m==\u001b[0m \u001b[0;34m'categorical'\u001b[0m \u001b[0;32melse\u001b[0m \u001b[0;34m'sigmoid'\u001b[0m\u001b[0;34m)\u001b[0m  \u001b[0;31m# Output layer for number of classes\u001b[0m\u001b[0;34m\u001b[0m\u001b[0;34m\u001b[0m\u001b[0m\n\u001b[0m\u001b[1;32m     10\u001b[0m ])\n",
            "\u001b[0;31mNameError\u001b[0m: name 'class_mode' is not defined"
          ]
        }
      ],
      "source": [
        "# Define the CNN model (adjust architecture and layers as needed)\n",
        "model = Sequential([\n",
        "    Conv2D(32, (3, 3), activation='relu', input_shape=(img_width, img_height, 3), name='conv1'),  # Add name 'conv1' to the first layer\n",
        "    MaxPooling2D((2, 2)),\n",
        "    Conv2D(64, (3, 3), activation='relu', name='conv2'),  # Add name 'conv2' to the second layer\n",
        "    MaxPooling2D((2, 2)),\n",
        "    Flatten(),\n",
        "    Dense(128, activation='relu'),  # Adjust hidden layer size as needed\n",
        "    Dense(len(train_generator.classes) if class_mode == 'categorical' else 1, activation='softmax' if class_mode == 'categorical' else 'sigmoid')  # Output layer for number of classes\n",
        "])\n"
      ]
    },
    {
      "cell_type": "code",
      "execution_count": null,
      "metadata": {
        "id": "HiGsOD8fCxiF",
        "colab": {
          "base_uri": "https://localhost:8080/",
          "height": 106
        },
        "outputId": "40b26a2d-a927-4f50-febd-c6bff73860d4"
      },
      "outputs": [
        {
          "output_type": "error",
          "ename": "IndentationError",
          "evalue": "unexpected indent (<ipython-input-11-7cda2ea122d9>, line 2)",
          "traceback": [
            "\u001b[0;36m  File \u001b[0;32m\"<ipython-input-11-7cda2ea122d9>\"\u001b[0;36m, line \u001b[0;32m2\u001b[0m\n\u001b[0;31m    model.compile(loss='categorical_crossentropy' if class_mode == 'categorical' else 'binary_crossentropy',\u001b[0m\n\u001b[0m    ^\u001b[0m\n\u001b[0;31mIndentationError\u001b[0m\u001b[0;31m:\u001b[0m unexpected indent\n"
          ]
        }
      ],
      "source": [
        "# Compile the model\n",
        "    model.compile(loss='categorical_crossentropy' if class_mode == 'categorical' else 'binary_crossentropy',\n",
        "                  optimizer='adam',\n",
        "                  metrics=['accuracy'])"
      ]
    },
    {
      "cell_type": "code",
      "execution_count": null,
      "metadata": {
        "id": "cfBlObITCxSY",
        "colab": {
          "base_uri": "https://localhost:8080/",
          "height": 106
        },
        "outputId": "88b4f81b-ddbf-4d04-ba5a-c127e196a714"
      },
      "outputs": [
        {
          "output_type": "error",
          "ename": "IndentationError",
          "evalue": "unexpected indent (<ipython-input-12-73cbe260c9b5>, line 2)",
          "traceback": [
            "\u001b[0;36m  File \u001b[0;32m\"<ipython-input-12-73cbe260c9b5>\"\u001b[0;36m, line \u001b[0;32m2\u001b[0m\n\u001b[0;31m    class FeatureMapVisualization(Callback):\u001b[0m\n\u001b[0m    ^\u001b[0m\n\u001b[0;31mIndentationError\u001b[0m\u001b[0;31m:\u001b[0m unexpected indent\n"
          ]
        }
      ],
      "source": [
        "# Feature map visualization callback\n",
        "    class FeatureMapVisualization(Callback):\n",
        "        def on_epoch_end(self, epoch, logs=None):\n",
        "            # Access layer outputs using the correct names you assigned\n",
        "            conv1_output = self.model.get_layer('conv1').output\n",
        "            conv2_output = self.model.get_layer('conv2').output\n",
        "\n",
        "            # Extract and reshape activation maps\n",
        "            conv1_activations = conv1_output.numpy()\n",
        "            conv2_activations = conv2_output.numpy()\n",
        "\n",
        "            # Plot and visualize activation maps\n",
        "            for i in range(conv1_activations.shape[3]):\n",
        "                plt.imshow(conv1_activations[0, :, :, i], cmap='gray')\n",
        "                plt.title(f\"Conv1 Filter {i}\")\n",
        "                plt.show()\n",
        "\n",
        "            for i in range(conv2_activations.shape[3]):\n",
        "                plt.imshow(conv2_activations[0, :, :, i], cmap='gray')\n",
        "                plt.title(f\"Conv2 Filter {i}\")\n",
        "                plt.show()\n",
        "\n"
      ]
    },
    {
      "cell_type": "code",
      "execution_count": null,
      "metadata": {
        "id": "uQg07XIqDzja",
        "colab": {
          "base_uri": "https://localhost:8080/",
          "height": 106
        },
        "outputId": "e36eeb62-c4b4-485a-b951-c303f12f0612"
      },
      "outputs": [
        {
          "output_type": "error",
          "ename": "IndentationError",
          "evalue": "unexpected indent (<ipython-input-13-56c6a48c674f>, line 2)",
          "traceback": [
            "\u001b[0;36m  File \u001b[0;32m\"<ipython-input-13-56c6a48c674f>\"\u001b[0;36m, line \u001b[0;32m2\u001b[0m\n\u001b[0;31m    model.fit(train_generator,\u001b[0m\n\u001b[0m    ^\u001b[0m\n\u001b[0;31mIndentationError\u001b[0m\u001b[0;31m:\u001b[0m unexpected indent\n"
          ]
        }
      ],
      "source": [
        "# Train the model\n",
        "    model.fit(train_generator,\n",
        "              epochs=10,  # Adjust number of epochs as needed\n",
        "              callbacks=[FeatureMapVisualization()])\n",
        "\n",
        "    # Generate classification matrices\n",
        "    predictions = model.predict_classes(validation_generator)\n",
        "    actual_labels = validation_generator.classes\n",
        "    confusion_matrix = confusion_matrix(actual_labels, predictions)\n",
        "    print(f\"Confusion Matrix for {class_mode}:\")\n",
        "    print(confusion_matrix)\n",
        "\n",
        "# Train and evaluate the 5-class model\n",
        "train_and_evaluate(class_mode='categorical')  # Complete closing parenthesis\n",
        "\n",
        "# Train and evaluate"
      ]
    }
  ],
  "metadata": {
    "colab": {
      "provenance": [],
      "mount_file_id": "1LoKETlTcj1oHL6_RindhuirB6obfSHcd",
      "authorship_tag": "ABX9TyOwUKeGr+2jksQF3v9ChPx3",
      "include_colab_link": true
    },
    "kernelspec": {
      "display_name": "Python 3",
      "name": "python3"
    },
    "language_info": {
      "name": "python"
    }
  },
  "nbformat": 4,
  "nbformat_minor": 0
}